{
  "nbformat": 4,
  "nbformat_minor": 0,
  "metadata": {
    "colab": {
      "name": "deep2.ipynb",
      "provenance": [],
      "collapsed_sections": [],
      "machine_shape": "hm",
      "mount_file_id": "1ikjhyN5QoIyKUqE_8VMsExP0BMbbLQRp",
      "authorship_tag": "ABX9TyNuZcKyUOdF5So5luNxc3oK",
      "include_colab_link": true
    },
    "kernelspec": {
      "name": "python3",
      "display_name": "Python 3"
    },
    "accelerator": "GPU"
  },
  "cells": [
    {
      "cell_type": "markdown",
      "metadata": {
        "id": "view-in-github",
        "colab_type": "text"
      },
      "source": [
        "<a href=\"https://colab.research.google.com/github/isak1997/Homeexam-3-STA-3001/blob/master/deep2.ipynb\" target=\"_parent\"><img src=\"https://colab.research.google.com/assets/colab-badge.svg\" alt=\"Open In Colab\"/></a>"
      ]
    },
    {
      "cell_type": "code",
      "metadata": {
        "id": "_0JQB3SodTmr",
        "colab_type": "code",
        "outputId": "096ec516-b575-4ec1-a90d-e471a7fd3d94",
        "colab": {
          "base_uri": "https://localhost:8080/",
          "height": 51
        }
      },
      "source": [
        "#@title Version must be 1.16.1 to avoid pickle problems\n",
        "!pip install numpy==1.16.1\n",
        "import numpy as np\n",
        "\n",
        "print(np.__version__)\n",
        "\n"
      ],
      "execution_count": 1,
      "outputs": [
        {
          "output_type": "stream",
          "text": [
            "Requirement already satisfied: numpy==1.16.1 in /usr/local/lib/python3.6/dist-packages (1.16.1)\n",
            "1.16.1\n"
          ],
          "name": "stdout"
        }
      ]
    },
    {
      "cell_type": "code",
      "metadata": {
        "id": "a7ZkZ0bwWA-t",
        "colab_type": "code",
        "outputId": "49ec4219-4388-4230-871e-0b44cd2e0cfa",
        "colab": {
          "base_uri": "https://localhost:8080/",
          "height": 34
        }
      },
      "source": [
        "%cd /content/drive/My Drive/Colab Notebooks"
      ],
      "execution_count": 0,
      "outputs": [
        {
          "output_type": "stream",
          "text": [
            "/content/drive/My Drive/Colab Notebooks\n"
          ],
          "name": "stdout"
        }
      ]
    },
    {
      "cell_type": "code",
      "metadata": {
        "id": "xAcki-S-WGL8",
        "colab_type": "code",
        "outputId": "5408df31-1bef-4508-c825-481841d91388",
        "colab": {
          "base_uri": "https://localhost:8080/",
          "height": 34
        }
      },
      "source": [
        "%ls HE_data/"
      ],
      "execution_count": 0,
      "outputs": [
        {
          "output_type": "stream",
          "text": [
            "\u001b[0m\u001b[01;34mdata\u001b[0m/  \u001b[01;34mDataLoaders\u001b[0m/\n"
          ],
          "name": "stdout"
        }
      ]
    },
    {
      "cell_type": "code",
      "metadata": {
        "id": "_vqldmeoYdnE",
        "colab_type": "code",
        "cellView": "both",
        "colab": {}
      },
      "source": [
        "#@title init { form-width: \"5%\" }\n",
        "\n",
        "import torch as th\n",
        "import torch.nn as nn\n",
        "import matplotlib.pyplot as plt\n",
        "import sys\n",
        "from IPython.display import clear_output\n",
        "from torch.utils.data import Dataset, DataLoader\n",
        "\n",
        "device = 'cuda' if th.cuda.is_available() else 'cpu' \n",
        "\n"
      ],
      "execution_count": 0,
      "outputs": []
    },
    {
      "cell_type": "code",
      "metadata": {
        "id": "i0X_E5HUWVRw",
        "colab_type": "code",
        "colab": {}
      },
      "source": [
        "sys.path.append('content/drive/My Drive/Colab Notebooks/HE_data/')\n",
        "sys.path.append('/content/drive/My Drive/Colab Notebooks/HE_data/DataLoaders/')\n",
        "datapath = sys.path.append('/content/drive/My Drive/Colab Notebooks/HE_data/data')"
      ],
      "execution_count": 0,
      "outputs": []
    },
    {
      "cell_type": "code",
      "metadata": {
        "id": "0BQj9K3jWZYo",
        "colab_type": "code",
        "colab": {
          "base_uri": "https://localhost:8080/",
          "height": 252
        },
        "outputId": "df663702-30ea-4118-c793-462a9d472c93"
      },
      "source": [
        "import camvid_loader \n",
        "Xtr_b, Ytr_b, Xte_b, Yte_b, class_desc = camvid_loader.load_camvid('/content/drive/My Drive/Colab Notebooks/HE_data/data/')\n",
        "\n",
        "\n",
        "\n",
        "a = DataLoader(Xtr_b, batch_size=10, shuffle=True)   # Create iterator to loop through training data\n",
        "b = DataLoader(Ytr_b, batch_size=10, shuffle=True)        # Create iterator to loop through test data.\n",
        "c = DataLoader(Xte_b, batch_size=10, shuffle=True)   # Create iterator to loop through training data\n",
        "d = DataLoader(Yte_b, batch_size=10, shuffle=True)        # Create iterator to loop through test data.\n",
        "\n",
        "#xtr = th.tensor(a, dtype=th.float)\n",
        "#ytr = th.tensor(b, dtype=th.float)\n",
        "#xte = th.tensor(c, dtype=th.float)\n",
        "#yte = th.tensor(d, dtype=th.float)\n",
        "\n",
        "\n"
      ],
      "execution_count": 17,
      "outputs": [
        {
          "output_type": "error",
          "ename": "TypeError",
          "evalue": "ignored",
          "traceback": [
            "\u001b[0;31m---------------------------------------------------------------------------\u001b[0m",
            "\u001b[0;31mTypeError\u001b[0m                                 Traceback (most recent call last)",
            "\u001b[0;32m<ipython-input-17-71245e696e37>\u001b[0m in \u001b[0;36m<module>\u001b[0;34m()\u001b[0m\n\u001b[1;32m      9\u001b[0m \u001b[0md\u001b[0m \u001b[0;34m=\u001b[0m \u001b[0mDataLoader\u001b[0m\u001b[0;34m(\u001b[0m\u001b[0mYte_b\u001b[0m\u001b[0;34m,\u001b[0m \u001b[0mbatch_size\u001b[0m\u001b[0;34m=\u001b[0m\u001b[0;36m10\u001b[0m\u001b[0;34m,\u001b[0m \u001b[0mshuffle\u001b[0m\u001b[0;34m=\u001b[0m\u001b[0;32mTrue\u001b[0m\u001b[0;34m)\u001b[0m        \u001b[0;31m# Create iterator to loop through test data.\u001b[0m\u001b[0;34m\u001b[0m\u001b[0;34m\u001b[0m\u001b[0m\n\u001b[1;32m     10\u001b[0m \u001b[0;34m\u001b[0m\u001b[0m\n\u001b[0;32m---> 11\u001b[0;31m \u001b[0mxtr\u001b[0m \u001b[0;34m=\u001b[0m \u001b[0mth\u001b[0m\u001b[0;34m.\u001b[0m\u001b[0mtensor\u001b[0m\u001b[0;34m(\u001b[0m\u001b[0ma\u001b[0m\u001b[0;34m,\u001b[0m \u001b[0mdtype\u001b[0m\u001b[0;34m=\u001b[0m\u001b[0mth\u001b[0m\u001b[0;34m.\u001b[0m\u001b[0mfloat\u001b[0m\u001b[0;34m)\u001b[0m\u001b[0;34m\u001b[0m\u001b[0;34m\u001b[0m\u001b[0m\n\u001b[0m\u001b[1;32m     12\u001b[0m \u001b[0mytr\u001b[0m \u001b[0;34m=\u001b[0m \u001b[0mth\u001b[0m\u001b[0;34m.\u001b[0m\u001b[0mtensor\u001b[0m\u001b[0;34m(\u001b[0m\u001b[0mb\u001b[0m\u001b[0;34m,\u001b[0m \u001b[0mdtype\u001b[0m\u001b[0;34m=\u001b[0m\u001b[0mth\u001b[0m\u001b[0;34m.\u001b[0m\u001b[0mfloat\u001b[0m\u001b[0;34m)\u001b[0m\u001b[0;34m\u001b[0m\u001b[0;34m\u001b[0m\u001b[0m\n\u001b[1;32m     13\u001b[0m \u001b[0mxte\u001b[0m \u001b[0;34m=\u001b[0m \u001b[0mth\u001b[0m\u001b[0;34m.\u001b[0m\u001b[0mtensor\u001b[0m\u001b[0;34m(\u001b[0m\u001b[0mc\u001b[0m\u001b[0;34m,\u001b[0m \u001b[0mdtype\u001b[0m\u001b[0;34m=\u001b[0m\u001b[0mth\u001b[0m\u001b[0;34m.\u001b[0m\u001b[0mfloat\u001b[0m\u001b[0;34m)\u001b[0m\u001b[0;34m\u001b[0m\u001b[0;34m\u001b[0m\u001b[0m\n",
            "\u001b[0;31mTypeError\u001b[0m: must be real number, not DataLoader"
          ]
        }
      ]
    },
    {
      "cell_type": "markdown",
      "metadata": {
        "id": "6xiA0bN8uzVs",
        "colab_type": "text"
      },
      "source": [
        ""
      ]
    },
    {
      "cell_type": "code",
      "metadata": {
        "id": "-JPLLdB6pql6",
        "colab_type": "code",
        "colab": {},
        "cellView": "both"
      },
      "source": [
        "#@title htrgtrg { form-width: \"10px\" }\n",
        "\n",
        "class CNN(nn.Module):\n",
        "    \n",
        "    def __init__(self, n_class=21):\n",
        "        super(CNN, self).__init__()\n",
        "        # conv1\n",
        "        self.conv1_1 = nn.Conv2d(3, 64, 3, padding=100)\n",
        "        self.relu1_1 = nn.ReLU(inplace=True)\n",
        "        self.conv1_2 = nn.Conv2d(64, 64, 3, padding=1)\n",
        "        self.relu1_2 = nn.ReLU(inplace=True)\n",
        "        self.pool1 = nn.MaxPool2d(2, stride=2, ceil_mode=True)  # 1/2\n",
        "\n",
        "        # conv2\n",
        "        self.conv2_1 = nn.Conv2d(64, 128, 3, padding=1)\n",
        "        self.relu2_1 = nn.ReLU(inplace=True)\n",
        "        self.conv2_2 = nn.Conv2d(128, 128, 3, padding=1)\n",
        "        self.relu2_2 = nn.ReLU(inplace=True)\n",
        "        self.pool2 = nn.MaxPool2d(2, stride=2, ceil_mode=True)  # 1/4\n",
        "\n",
        "        # conv3\n",
        "        self.conv3_1 = nn.Conv2d(128, 256, 3, padding=1)\n",
        "        self.relu3_1 = nn.ReLU(inplace=True)\n",
        "        self.conv3_2 = nn.Conv2d(256, 256, 3, padding=1)\n",
        "        self.relu3_2 = nn.ReLU(inplace=True)\n",
        "        self.conv3_3 = nn.Conv2d(256, 256, 3, padding=1)\n",
        "        self.relu3_3 = nn.ReLU(inplace=True)\n",
        "        self.pool3 = nn.MaxPool2d(2, stride=2, ceil_mode=True)  # 1/8\n",
        "\n",
        "        # conv4\n",
        "        self.conv4_1 = nn.Conv2d(256, 512, 3, padding=1)\n",
        "        self.relu4_1 = nn.ReLU(inplace=True)\n",
        "        self.conv4_2 = nn.Conv2d(512, 512, 3, padding=1)\n",
        "        self.relu4_2 = nn.ReLU(inplace=True)\n",
        "        self.conv4_3 = nn.Conv2d(512, 512, 3, padding=1)\n",
        "        self.relu4_3 = nn.ReLU(inplace=True)\n",
        "        self.pool4 = nn.MaxPool2d(2, stride=2, ceil_mode=True)  # 1/16\n",
        "\n",
        "        # conv5\n",
        "        self.conv5_1 = nn.Conv2d(512, 512, 3, padding=1)\n",
        "        self.relu5_1 = nn.ReLU(inplace=True)\n",
        "        self.conv5_2 = nn.Conv2d(512, 512, 3, padding=1)\n",
        "        self.relu5_2 = nn.ReLU(inplace=True)\n",
        "        self.conv5_3 = nn.Conv2d(512, 512, 3, padding=1)\n",
        "        self.relu5_3 = nn.ReLU(inplace=True)\n",
        "        self.pool5 = nn.MaxPool2d(2, stride=2, ceil_mode=True)  # 1/32\n",
        "\n",
        "        # fc6\n",
        "        self.fc6 = nn.Conv2d(512, 4096, 7)\n",
        "        self.relu6 = nn.ReLU(inplace=True)\n",
        "        self.drop6 = nn.Dropout2d()\n",
        "\n",
        "        # fc7\n",
        "        self.fc7 = nn.Conv2d(4096, 4096, 1)\n",
        "        self.relu7 = nn.ReLU(inplace=True)\n",
        "        self.drop7 = nn.Dropout2d()\n",
        "\n",
        "        self.score_fr = nn.Conv2d(4096, n_class, 1)\n",
        "        self.upscore = nn.ConvTranspose2d(n_class, n_class, 64, stride=32,\n",
        "                                          bias=False)\n",
        "\n",
        "        self._initialize_weights()\n",
        "\n",
        "    def _initialize_weights(self):\n",
        "        for m in self.modules():\n",
        "          if isinstance(m, nn.Conv2d):\n",
        "            m.weight.data.zero_()\n",
        "            if m.bias is not None:\n",
        "              m.bias.data.zero_()\n",
        "            if isinstance(m, nn.ConvTranspose2d):\n",
        "              assert m.kernel_size[0] == m.kernel_size[1]\n",
        "              initial_weight = get_upsampling_weight(\n",
        "              m.in_channels, m.out_channels, m.kernel_size[0])\n",
        "              m.weight.data.copy_(initial_weight)\n",
        "\n",
        "\n",
        "    def forward(self, x):\n",
        "          h = x\n",
        "          h = self.relu1_1(self.conv1_1(h))\n",
        "          h = self.relu1_2(self.conv1_2(h))\n",
        "          h = self.pool1(h)\n",
        "\n",
        "          h = self.relu2_1(self.conv2_1(h))\n",
        "          h = self.relu2_2(self.conv2_2(h))\n",
        "          h = self.pool2(h)\n",
        "\n",
        "          h = self.relu3_1(self.conv3_1(h))\n",
        "          h = self.relu3_2(self.conv3_2(h))\n",
        "          h = self.relu3_3(self.conv3_3(h))\n",
        "          h = self.pool3(h)\n",
        "\n",
        "          h = self.relu4_1(self.conv4_1(h))\n",
        "          h = self.relu4_2(self.conv4_2(h))\n",
        "          h = self.relu4_3(self.conv4_3(h))\n",
        "          h = self.pool4(h)\n",
        "\n",
        "          h = self.relu5_1(self.conv5_1(h))\n",
        "          h = self.relu5_2(self.conv5_2(h))\n",
        "          h = self.relu5_3(self.conv5_3(h))\n",
        "          h = self.pool5(h)\n",
        "\n",
        "          h = self.relu6(self.fc6(h))\n",
        "          h = self.drop6(h)\n",
        "\n",
        "          h = self.relu7(self.fc7(h))\n",
        "          h = self.drop7(h)\n",
        "\n",
        "          h = self.score_fr(h)\n",
        "\n",
        "          h = self.upscore(h)\n",
        "          h = h[:, :, 19:19 + x.size()[2], 19:19 + x.size()[3]].contiguous()\n",
        "\n",
        "          return h\n",
        "\n",
        "    def copy_params_from_vgg16(self, vgg16):\n",
        "      features = [\n",
        "        self.conv1_1, self.relu1_1,\n",
        "        self.conv1_2, self.relu1_2,\n",
        "        self.pool1,\n",
        "        self.conv2_1, self.relu2_1,\n",
        "        self.conv2_2, self.relu2_2,\n",
        "        self.pool2,\n",
        "        self.conv3_1, self.relu3_1,\n",
        "        self.conv3_2, self.relu3_2,\n",
        "        self.conv3_3, self.relu3_3,\n",
        "        self.pool3,\n",
        "        self.conv4_1, self.relu4_1,\n",
        "        self.conv4_2, self.relu4_2,\n",
        "        self.conv4_3, self.relu4_3,\n",
        "        self.pool4,\n",
        "        self.conv5_1, self.relu5_1,\n",
        "        self.conv5_2, self.relu5_2,\n",
        "        self.conv5_3, self.relu5_3,\n",
        "        self.pool5,\n",
        "      ] \n",
        "      for l1, l2 in zip(vgg16.features, features):\n",
        "          if isinstance(l1, nn.Conv2d) and isinstance(l2, nn.Conv2d):\n",
        "              assert l1.weight.size() == l2.weight.size()\n",
        "              assert l1.bias.size() == l2.bias.size()\n",
        "              l2.weight.data = l1.weight.data\n",
        "              l2.bias.data = l1.bias.data\n",
        "      for i, name in zip([0, 3], ['fc6', 'fc7']):\n",
        "          l1 = vgg16.classifier[i]\n",
        "          l2 = getattr(self, name)\n",
        "          l2.weight.data = l1.weight.data.view(l2.weight.size())\n",
        "          l2.bias.data = l1.bias.data.view(l2.bias.size())\n",
        "                "
      ],
      "execution_count": 0,
      "outputs": []
    },
    {
      "cell_type": "code",
      "metadata": {
        "id": "cySTZcifIjnc",
        "colab_type": "code",
        "colab": {}
      },
      "source": [
        "\n",
        "model = CNN().to(device) \n",
        "loss_func = nn.CrossEntropyLoss() \n",
        "optimizer = th.optim.Adam(model.parameters())\n",
        "L, A, epochs = [], [], 10"
      ],
      "execution_count": 0,
      "outputs": []
    },
    {
      "cell_type": "code",
      "metadata": {
        "id": "icFsshQAIpH-",
        "colab_type": "code",
        "outputId": "c115bf64-2bd8-457f-ad38-894a4a37ce28",
        "colab": {
          "base_uri": "https://localhost:8080/",
          "height": 164
        }
      },
      "source": [
        ""
      ],
      "execution_count": 0,
      "outputs": [
        {
          "output_type": "error",
          "ename": "NameError",
          "evalue": "ignored",
          "traceback": [
            "\u001b[0;31m---------------------------------------------------------------------------\u001b[0m",
            "\u001b[0;31mNameError\u001b[0m                                 Traceback (most recent call last)",
            "\u001b[0;32m<ipython-input-36-a80feacadef0>\u001b[0m in \u001b[0;36m<module>\u001b[0;34m()\u001b[0m\n\u001b[0;32m----> 1\u001b[0;31m \u001b[0mpytorch\u001b[0m\u001b[0;34m.\u001b[0m\u001b[0mset_default_tensor_type\u001b[0m\u001b[0;34m(\u001b[0m\u001b[0;34m'torch.DoubleTensor'\u001b[0m\u001b[0;34m)\u001b[0m\u001b[0;34m\u001b[0m\u001b[0;34m\u001b[0m\u001b[0m\n\u001b[0m",
            "\u001b[0;31mNameError\u001b[0m: name 'pytorch' is not defined"
          ]
        }
      ]
    },
    {
      "cell_type": "code",
      "metadata": {
        "id": "rsJxNKE4Itfu",
        "colab_type": "code",
        "colab": {}
      },
      "source": [
        ""
      ],
      "execution_count": 0,
      "outputs": []
    },
    {
      "cell_type": "code",
      "metadata": {
        "id": "xjLCw-1fRpCR",
        "colab_type": "code",
        "outputId": "e37d7735-2a02-47fe-9fe4-f15a63876709",
        "colab": {
          "base_uri": "https://localhost:8080/",
          "height": 252
        }
      },
      "source": [
        "\"\"\"\n",
        "Define training procedure for network.\n",
        "\"\"\"\n",
        "model = CNN().to(device) \n",
        "model =model.float\n",
        "\n",
        "\n",
        "         # Create an instance of our class, with\n",
        "                                             # relu activation function. The .to(device)\n",
        "                                             # moved the model from the cpu to gpu.\n",
        "\n",
        "loss_func = nn.CrossEntropyLoss()            # Create cross entropy loss function.\n",
        "optimizer = th.optim.Adam(model.parameters())# Create optimizer for training network.\n",
        "                                             # The (model.parameters()) is passing the trainable\n",
        "                                             # paramters of the model to the optmizer\n",
        "\n",
        "L, A, epochs = [], [], 5                     # Lists for storing loss and accuracy\n",
        "                                             # and the number of epochs to train the model.\n",
        "\n",
        "for epoch in range(epochs):                  # Loop through 5 training epochs.\n",
        "\n",
        "  for x, y in zip(a,b):  # Looping through all training samples.\n",
        "\n",
        "    x = th.tensor(x, dtype=float)\n",
        "    y = th.tensor(y, dtype=float)\n",
        "\n",
        "    x, y = x.to(device), y.to(device)    # Move data to gpu-\n",
        "    model.train()                     # Put model in training mode. This is important\n",
        "                                      # if you have operations that behave differently\n",
        "                                      # during training versus testing.\n",
        "\n",
        "    optimizer.zero_grad()             # Pytorch accumulates gradients each time data is\n",
        "                                      # passed through the network. The \".zero_grad()\"\n",
        "                                      # removes gradients calculated for preivous batches.\n",
        "\n",
        "    output = model(x)             # Pass data through model\n",
        "    loss = loss_func(output, y)   # Calculate loss.\n",
        "    loss.backward()                   # Calculate gradients.\n",
        "    optimizer.step()                  # Perform gradient descent, i.e. update parameters.\n",
        "\n",
        "    L.append(loss.item())             # Store loss for plotting.\n",
        "\n",
        "  for x, y in zip(c,d):  # Looping through all training samples.\n",
        "\n",
        "    x = th.tensor(x, dtype=float)\n",
        "    y = th.tensor(y, dtype=float)\n",
        "\n",
        "    x, y = x.to(device), y.to(device)   # Move samples to gpu.\n",
        "    model.eval()                  # Put model in evaluation mode. Again, if\n",
        "                                  # you have operations that behave differently\n",
        "                                  # during training versus testing.\n",
        "\n",
        "    A.append(model.accuracy(x, y))  # Calculate accuracy\n",
        "\n",
        "    # Plotting\n",
        "    print('Epoch number: {}'.format(epoch))\n",
        "    print('Cost: {}'.format(L[-1]))\n",
        "    print('Acc: {}'.format(A[-1]))\n",
        "\n",
        "    # Colab function for clearing the print log every fifth epoch.\n",
        "    if epoch % 5 == 0 and epoch != 0:\n",
        "        clear_output()\n",
        "\n",
        "plt.figure(1)\n",
        "plt.plot(L)\n",
        "plt.show()"
      ],
      "execution_count": 23,
      "outputs": [
        {
          "output_type": "error",
          "ename": "AttributeError",
          "evalue": "ignored",
          "traceback": [
            "\u001b[0;31m---------------------------------------------------------------------------\u001b[0m",
            "\u001b[0;31mAttributeError\u001b[0m                            Traceback (most recent call last)",
            "\u001b[0;32m<ipython-input-23-2c144e1b3419>\u001b[0m in \u001b[0;36m<module>\u001b[0;34m()\u001b[0m\n\u001b[1;32m     11\u001b[0m \u001b[0;34m\u001b[0m\u001b[0m\n\u001b[1;32m     12\u001b[0m \u001b[0mloss_func\u001b[0m \u001b[0;34m=\u001b[0m \u001b[0mnn\u001b[0m\u001b[0;34m.\u001b[0m\u001b[0mCrossEntropyLoss\u001b[0m\u001b[0;34m(\u001b[0m\u001b[0;34m)\u001b[0m            \u001b[0;31m# Create cross entropy loss function.\u001b[0m\u001b[0;34m\u001b[0m\u001b[0;34m\u001b[0m\u001b[0m\n\u001b[0;32m---> 13\u001b[0;31m \u001b[0moptimizer\u001b[0m \u001b[0;34m=\u001b[0m \u001b[0mth\u001b[0m\u001b[0;34m.\u001b[0m\u001b[0moptim\u001b[0m\u001b[0;34m.\u001b[0m\u001b[0mAdam\u001b[0m\u001b[0;34m(\u001b[0m\u001b[0mmodel\u001b[0m\u001b[0;34m.\u001b[0m\u001b[0mparameters\u001b[0m\u001b[0;34m(\u001b[0m\u001b[0;34m)\u001b[0m\u001b[0;34m)\u001b[0m\u001b[0;31m# Create optimizer for training network.\u001b[0m\u001b[0;34m\u001b[0m\u001b[0;34m\u001b[0m\u001b[0m\n\u001b[0m\u001b[1;32m     14\u001b[0m                                              \u001b[0;31m# The (model.parameters()) is passing the trainable\u001b[0m\u001b[0;34m\u001b[0m\u001b[0;34m\u001b[0m\u001b[0;34m\u001b[0m\u001b[0m\n\u001b[1;32m     15\u001b[0m                                              \u001b[0;31m# paramters of the model to the optmizer\u001b[0m\u001b[0;34m\u001b[0m\u001b[0;34m\u001b[0m\u001b[0;34m\u001b[0m\u001b[0m\n",
            "\u001b[0;31mAttributeError\u001b[0m: 'function' object has no attribute 'parameters'"
          ]
        }
      ]
    }
  ]
}